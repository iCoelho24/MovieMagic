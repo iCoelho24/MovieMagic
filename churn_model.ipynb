{
 "cells": [
  {
   "cell_type": "markdown",
   "metadata": {},
   "source": [
    "### **Carregando as bibliotecas e importando os dados**"
   ]
  },
  {
   "cell_type": "code",
   "execution_count": 1,
   "metadata": {},
   "outputs": [],
   "source": [
    "import pandas as pd\n",
    "import numpy as np\n",
    "from sqlalchemy import create_engine\n",
    "import matplotlib.pyplot as plt\n",
    "import seaborn as sns\n",
    "import json\n",
    "import joblib\n",
    "from sklearn.metrics import roc_auc_score, accuracy_score, roc_curve, recall_score, confusion_matrix, make_scorer\n",
    "from sklearn.model_selection import train_test_split\n",
    "from sklearn.linear_model import LogisticRegression\n",
    "from sklearn.ensemble import RandomForestClassifier\n",
    "from sklearn.model_selection import StratifiedKFold, KFold, RandomizedSearchCV\n",
    "from scipy.stats import uniform, loguniform\n",
    "from IPython.display import Markdown\n",
    "from scipy.stats import randint\n",
    "import warnings\n",
    "\n",
    "warnings.filterwarnings(\"ignore\")\n",
    "pd.set_option('display.float_format', lambda x: '%.2f' % x) #Não deixa em notação ciêntifica"
   ]
  },
  {
   "cell_type": "code",
   "execution_count": 2,
   "metadata": {},
   "outputs": [],
   "source": [
    "# Carregando o arquivo em JON onde está as chaves de acesso para conectar no banco de dados.\n",
    "with open('config/config.json', 'r') as config_file:\n",
    "    config = json.load(config_file)"
   ]
  },
  {
   "cell_type": "code",
   "execution_count": 3,
   "metadata": {},
   "outputs": [],
   "source": [
    "# Capturando os dados\n",
    "DB_USER = config['db_user']\n",
    "DB_PASSWORD = config['db_password']\n",
    "DB_NAME = config['db_name']\n",
    "DB_HOST = config['db_host']"
   ]
  },
  {
   "cell_type": "code",
   "execution_count": 4,
   "metadata": {},
   "outputs": [],
   "source": [
    "engine = create_engine(f'postgresql://{DB_USER}:{DB_PASSWORD}@{DB_HOST}/{DB_NAME}')"
   ]
  },
  {
   "cell_type": "code",
   "execution_count": 5,
   "metadata": {},
   "outputs": [],
   "source": [
    "# Executando a consulta para captura dos dados e transformando eles em um dataset.\n",
    "data = \"\"\"\n",
    "SELECT \n",
    "        CUSTOMER.CUSTOMER_ID,\n",
    "        INVENTORY.FILM_ID,\n",
    "        PAYMENT.AMOUNT,\n",
    "        RENTAL.RENTAL_DATE,\n",
    "        INVENTORY.STORE_ID,\n",
    "        RENTAL.STAFF_ID,\n",
    "        FILM.RENTAL_DURATION,\n",
    "        CUSTOMER.ACTIVE AS CHURN\n",
    "FROM CUSTOMER\n",
    "JOIN PAYMENT ON PAYMENT.CUSTOMER_ID = CUSTOMER.CUSTOMER_ID\n",
    "JOIN RENTAL ON RENTAL.CUSTOMER_ID = CUSTOMER.CUSTOMER_ID\n",
    "JOIN INVENTORY ON INVENTORY.INVENTORY_ID = RENTAL.INVENTORY_ID\n",
    "JOIN FILM ON FILM.FILM_ID = INVENTORY.FILM_ID\n",
    "\"\"\"\n",
    "\n",
    "data = pd.read_sql_query(data, engine)"
   ]
  },
  {
   "cell_type": "markdown",
   "metadata": {},
   "source": [
    "### **Funções Auxiliares**"
   ]
  },
  {
   "cell_type": "code",
   "execution_count": 6,
   "metadata": {},
   "outputs": [],
   "source": [
    "def df_informations(df):\n",
    "    # Informações básicas\n",
    "    num_rows, num_cols = df.shape\n",
    "    text = f'O dataset tem {num_rows} linhas e {num_cols} colunas.'\n",
    "\n",
    "    # Informações sobre valores nulos\n",
    "    df_info = pd.DataFrame({\n",
    "        'Nao Nulos': df.notnull().count(),\n",
    "        'Nulos': df.isnull().sum(),\n",
    "        'Percentual de Nulos': df.isnull().mean(),\n",
    "        'Unicos': df.nunique(),\n",
    "        'Tipos': df.dtypes\n",
    "    })\n",
    "\n",
    "    # Informações sobre os tipos de dados\n",
    "    df_dtype = df_info['Tipos'].value_counts().reset_index()\n",
    "    df_dtype.columns = ['Tipos', 'Count']\n",
    "    df_dtype['Porcentagem'] = (df_dtype['Count'] / num_cols).round(2)\n",
    "\n",
    "    # Estilizando os DataFrames\n",
    "    df_info = df_info.style.background_gradient(cmap='jet', subset=['Percentual de Nulos']).format({'Percentual de Nulos': '{:.2%}'})\n",
    "    df_dtype = df_dtype.style.background_gradient(cmap='YlGn', subset=['Porcentagem']).format({'Porcentagem': '{:.2%}'})\n",
    "\n",
    "    # Exibir as informações\n",
    "    display(Markdown(\"<H3 style='text-align:left;float:left;'>Informações Sobre o dataset\"))\n",
    "    display(Markdown(f'<H5> {text}'))\n",
    "    display(df_info)\n",
    "    display(Markdown(\"<H3 style='text-align:left;float:left;'>Sobre o dtypes nós temos:\"))\n",
    "    display(df_dtype)"
   ]
  },
  {
   "cell_type": "markdown",
   "metadata": {},
   "source": [
    "#### **Conhecendo os dados**"
   ]
  },
  {
   "cell_type": "code",
   "execution_count": 7,
   "metadata": {},
   "outputs": [
    {
     "data": {
      "text/markdown": [
       "<H3 style='text-align:left;float:left;'>Informações Sobre o dataset"
      ],
      "text/plain": [
       "<IPython.core.display.Markdown object>"
      ]
     },
     "metadata": {},
     "output_type": "display_data"
    },
    {
     "data": {
      "text/markdown": [
       "<H5> O dataset tem 445483 linhas e 8 colunas."
      ],
      "text/plain": [
       "<IPython.core.display.Markdown object>"
      ]
     },
     "metadata": {},
     "output_type": "display_data"
    },
    {
     "data": {
      "text/html": [
       "<style type=\"text/css\">\n",
       "#T_13f79_row0_col2, #T_13f79_row1_col2, #T_13f79_row2_col2, #T_13f79_row3_col2, #T_13f79_row4_col2, #T_13f79_row5_col2, #T_13f79_row6_col2, #T_13f79_row7_col2 {\n",
       "  background-color: #000080;\n",
       "  color: #f1f1f1;\n",
       "}\n",
       "</style>\n",
       "<table id=\"T_13f79\">\n",
       "  <thead>\n",
       "    <tr>\n",
       "      <th class=\"blank level0\" >&nbsp;</th>\n",
       "      <th id=\"T_13f79_level0_col0\" class=\"col_heading level0 col0\" >Nao Nulos</th>\n",
       "      <th id=\"T_13f79_level0_col1\" class=\"col_heading level0 col1\" >Nulos</th>\n",
       "      <th id=\"T_13f79_level0_col2\" class=\"col_heading level0 col2\" >Percentual de Nulos</th>\n",
       "      <th id=\"T_13f79_level0_col3\" class=\"col_heading level0 col3\" >Unicos</th>\n",
       "      <th id=\"T_13f79_level0_col4\" class=\"col_heading level0 col4\" >Tipos</th>\n",
       "    </tr>\n",
       "  </thead>\n",
       "  <tbody>\n",
       "    <tr>\n",
       "      <th id=\"T_13f79_level0_row0\" class=\"row_heading level0 row0\" >customer_id</th>\n",
       "      <td id=\"T_13f79_row0_col0\" class=\"data row0 col0\" >445483</td>\n",
       "      <td id=\"T_13f79_row0_col1\" class=\"data row0 col1\" >0</td>\n",
       "      <td id=\"T_13f79_row0_col2\" class=\"data row0 col2\" >0.00%</td>\n",
       "      <td id=\"T_13f79_row0_col3\" class=\"data row0 col3\" >599</td>\n",
       "      <td id=\"T_13f79_row0_col4\" class=\"data row0 col4\" >int64</td>\n",
       "    </tr>\n",
       "    <tr>\n",
       "      <th id=\"T_13f79_level0_row1\" class=\"row_heading level0 row1\" >film_id</th>\n",
       "      <td id=\"T_13f79_row1_col0\" class=\"data row1 col0\" >445483</td>\n",
       "      <td id=\"T_13f79_row1_col1\" class=\"data row1 col1\" >0</td>\n",
       "      <td id=\"T_13f79_row1_col2\" class=\"data row1 col2\" >0.00%</td>\n",
       "      <td id=\"T_13f79_row1_col3\" class=\"data row1 col3\" >958</td>\n",
       "      <td id=\"T_13f79_row1_col4\" class=\"data row1 col4\" >int64</td>\n",
       "    </tr>\n",
       "    <tr>\n",
       "      <th id=\"T_13f79_level0_row2\" class=\"row_heading level0 row2\" >amount</th>\n",
       "      <td id=\"T_13f79_row2_col0\" class=\"data row2 col0\" >445483</td>\n",
       "      <td id=\"T_13f79_row2_col1\" class=\"data row2 col1\" >0</td>\n",
       "      <td id=\"T_13f79_row2_col2\" class=\"data row2 col2\" >0.00%</td>\n",
       "      <td id=\"T_13f79_row2_col3\" class=\"data row2 col3\" >19</td>\n",
       "      <td id=\"T_13f79_row2_col4\" class=\"data row2 col4\" >float64</td>\n",
       "    </tr>\n",
       "    <tr>\n",
       "      <th id=\"T_13f79_level0_row3\" class=\"row_heading level0 row3\" >rental_date</th>\n",
       "      <td id=\"T_13f79_row3_col0\" class=\"data row3 col0\" >445483</td>\n",
       "      <td id=\"T_13f79_row3_col1\" class=\"data row3 col1\" >0</td>\n",
       "      <td id=\"T_13f79_row3_col2\" class=\"data row3 col2\" >0.00%</td>\n",
       "      <td id=\"T_13f79_row3_col3\" class=\"data row3 col3\" >15815</td>\n",
       "      <td id=\"T_13f79_row3_col4\" class=\"data row3 col4\" >datetime64[ns, UTC]</td>\n",
       "    </tr>\n",
       "    <tr>\n",
       "      <th id=\"T_13f79_level0_row4\" class=\"row_heading level0 row4\" >store_id</th>\n",
       "      <td id=\"T_13f79_row4_col0\" class=\"data row4 col0\" >445483</td>\n",
       "      <td id=\"T_13f79_row4_col1\" class=\"data row4 col1\" >0</td>\n",
       "      <td id=\"T_13f79_row4_col2\" class=\"data row4 col2\" >0.00%</td>\n",
       "      <td id=\"T_13f79_row4_col3\" class=\"data row4 col3\" >2</td>\n",
       "      <td id=\"T_13f79_row4_col4\" class=\"data row4 col4\" >int64</td>\n",
       "    </tr>\n",
       "    <tr>\n",
       "      <th id=\"T_13f79_level0_row5\" class=\"row_heading level0 row5\" >staff_id</th>\n",
       "      <td id=\"T_13f79_row5_col0\" class=\"data row5 col0\" >445483</td>\n",
       "      <td id=\"T_13f79_row5_col1\" class=\"data row5 col1\" >0</td>\n",
       "      <td id=\"T_13f79_row5_col2\" class=\"data row5 col2\" >0.00%</td>\n",
       "      <td id=\"T_13f79_row5_col3\" class=\"data row5 col3\" >2</td>\n",
       "      <td id=\"T_13f79_row5_col4\" class=\"data row5 col4\" >int64</td>\n",
       "    </tr>\n",
       "    <tr>\n",
       "      <th id=\"T_13f79_level0_row6\" class=\"row_heading level0 row6\" >rental_duration</th>\n",
       "      <td id=\"T_13f79_row6_col0\" class=\"data row6 col0\" >445483</td>\n",
       "      <td id=\"T_13f79_row6_col1\" class=\"data row6 col1\" >0</td>\n",
       "      <td id=\"T_13f79_row6_col2\" class=\"data row6 col2\" >0.00%</td>\n",
       "      <td id=\"T_13f79_row6_col3\" class=\"data row6 col3\" >5</td>\n",
       "      <td id=\"T_13f79_row6_col4\" class=\"data row6 col4\" >int64</td>\n",
       "    </tr>\n",
       "    <tr>\n",
       "      <th id=\"T_13f79_level0_row7\" class=\"row_heading level0 row7\" >churn</th>\n",
       "      <td id=\"T_13f79_row7_col0\" class=\"data row7 col0\" >445483</td>\n",
       "      <td id=\"T_13f79_row7_col1\" class=\"data row7 col1\" >0</td>\n",
       "      <td id=\"T_13f79_row7_col2\" class=\"data row7 col2\" >0.00%</td>\n",
       "      <td id=\"T_13f79_row7_col3\" class=\"data row7 col3\" >2</td>\n",
       "      <td id=\"T_13f79_row7_col4\" class=\"data row7 col4\" >int64</td>\n",
       "    </tr>\n",
       "  </tbody>\n",
       "</table>\n"
      ],
      "text/plain": [
       "<pandas.io.formats.style.Styler at 0x2039660a590>"
      ]
     },
     "metadata": {},
     "output_type": "display_data"
    },
    {
     "data": {
      "text/markdown": [
       "<H3 style='text-align:left;float:left;'>Sobre o dtypes nós temos:"
      ],
      "text/plain": [
       "<IPython.core.display.Markdown object>"
      ]
     },
     "metadata": {},
     "output_type": "display_data"
    },
    {
     "data": {
      "text/html": [
       "<style type=\"text/css\">\n",
       "#T_3821f_row0_col2 {\n",
       "  background-color: #004529;\n",
       "  color: #f1f1f1;\n",
       "}\n",
       "#T_3821f_row1_col2, #T_3821f_row2_col2 {\n",
       "  background-color: #ffffe5;\n",
       "  color: #000000;\n",
       "}\n",
       "</style>\n",
       "<table id=\"T_3821f\">\n",
       "  <thead>\n",
       "    <tr>\n",
       "      <th class=\"blank level0\" >&nbsp;</th>\n",
       "      <th id=\"T_3821f_level0_col0\" class=\"col_heading level0 col0\" >Tipos</th>\n",
       "      <th id=\"T_3821f_level0_col1\" class=\"col_heading level0 col1\" >Count</th>\n",
       "      <th id=\"T_3821f_level0_col2\" class=\"col_heading level0 col2\" >Porcentagem</th>\n",
       "    </tr>\n",
       "  </thead>\n",
       "  <tbody>\n",
       "    <tr>\n",
       "      <th id=\"T_3821f_level0_row0\" class=\"row_heading level0 row0\" >0</th>\n",
       "      <td id=\"T_3821f_row0_col0\" class=\"data row0 col0\" >int64</td>\n",
       "      <td id=\"T_3821f_row0_col1\" class=\"data row0 col1\" >6</td>\n",
       "      <td id=\"T_3821f_row0_col2\" class=\"data row0 col2\" >75.00%</td>\n",
       "    </tr>\n",
       "    <tr>\n",
       "      <th id=\"T_3821f_level0_row1\" class=\"row_heading level0 row1\" >1</th>\n",
       "      <td id=\"T_3821f_row1_col0\" class=\"data row1 col0\" >float64</td>\n",
       "      <td id=\"T_3821f_row1_col1\" class=\"data row1 col1\" >1</td>\n",
       "      <td id=\"T_3821f_row1_col2\" class=\"data row1 col2\" >12.00%</td>\n",
       "    </tr>\n",
       "    <tr>\n",
       "      <th id=\"T_3821f_level0_row2\" class=\"row_heading level0 row2\" >2</th>\n",
       "      <td id=\"T_3821f_row2_col0\" class=\"data row2 col0\" >datetime64[ns, UTC]</td>\n",
       "      <td id=\"T_3821f_row2_col1\" class=\"data row2 col1\" >1</td>\n",
       "      <td id=\"T_3821f_row2_col2\" class=\"data row2 col2\" >12.00%</td>\n",
       "    </tr>\n",
       "  </tbody>\n",
       "</table>\n"
      ],
      "text/plain": [
       "<pandas.io.formats.style.Styler at 0x2039614c090>"
      ]
     },
     "metadata": {},
     "output_type": "display_data"
    }
   ],
   "source": [
    "df_informations(data)"
   ]
  },
  {
   "cell_type": "code",
   "execution_count": 8,
   "metadata": {},
   "outputs": [
    {
     "data": {
      "text/html": [
       "<div>\n",
       "<style scoped>\n",
       "    .dataframe tbody tr th:only-of-type {\n",
       "        vertical-align: middle;\n",
       "    }\n",
       "\n",
       "    .dataframe tbody tr th {\n",
       "        vertical-align: top;\n",
       "    }\n",
       "\n",
       "    .dataframe thead th {\n",
       "        text-align: right;\n",
       "    }\n",
       "</style>\n",
       "<table border=\"1\" class=\"dataframe\">\n",
       "  <thead>\n",
       "    <tr style=\"text-align: right;\">\n",
       "      <th></th>\n",
       "      <th>count</th>\n",
       "      <th>mean</th>\n",
       "      <th>std</th>\n",
       "      <th>min</th>\n",
       "      <th>1%</th>\n",
       "      <th>10%</th>\n",
       "      <th>25%</th>\n",
       "      <th>50%</th>\n",
       "      <th>75%</th>\n",
       "      <th>90%</th>\n",
       "      <th>99%</th>\n",
       "      <th>max</th>\n",
       "    </tr>\n",
       "  </thead>\n",
       "  <tbody>\n",
       "    <tr>\n",
       "      <th>customer_id</th>\n",
       "      <td>445483.00</td>\n",
       "      <td>294.02</td>\n",
       "      <td>171.70</td>\n",
       "      <td>1.00</td>\n",
       "      <td>6.00</td>\n",
       "      <td>56.00</td>\n",
       "      <td>146.00</td>\n",
       "      <td>292.00</td>\n",
       "      <td>442.00</td>\n",
       "      <td>533.00</td>\n",
       "      <td>593.00</td>\n",
       "      <td>599.00</td>\n",
       "    </tr>\n",
       "    <tr>\n",
       "      <th>film_id</th>\n",
       "      <td>445483.00</td>\n",
       "      <td>501.17</td>\n",
       "      <td>288.30</td>\n",
       "      <td>1.00</td>\n",
       "      <td>10.00</td>\n",
       "      <td>101.00</td>\n",
       "      <td>255.00</td>\n",
       "      <td>498.00</td>\n",
       "      <td>752.00</td>\n",
       "      <td>897.00</td>\n",
       "      <td>990.00</td>\n",
       "      <td>1000.00</td>\n",
       "    </tr>\n",
       "    <tr>\n",
       "      <th>amount</th>\n",
       "      <td>445483.00</td>\n",
       "      <td>4.20</td>\n",
       "      <td>2.37</td>\n",
       "      <td>0.00</td>\n",
       "      <td>0.99</td>\n",
       "      <td>0.99</td>\n",
       "      <td>2.99</td>\n",
       "      <td>3.99</td>\n",
       "      <td>4.99</td>\n",
       "      <td>6.99</td>\n",
       "      <td>9.99</td>\n",
       "      <td>11.99</td>\n",
       "    </tr>\n",
       "    <tr>\n",
       "      <th>store_id</th>\n",
       "      <td>445483.00</td>\n",
       "      <td>1.51</td>\n",
       "      <td>0.50</td>\n",
       "      <td>1.00</td>\n",
       "      <td>1.00</td>\n",
       "      <td>1.00</td>\n",
       "      <td>1.00</td>\n",
       "      <td>2.00</td>\n",
       "      <td>2.00</td>\n",
       "      <td>2.00</td>\n",
       "      <td>2.00</td>\n",
       "      <td>2.00</td>\n",
       "    </tr>\n",
       "    <tr>\n",
       "      <th>staff_id</th>\n",
       "      <td>445483.00</td>\n",
       "      <td>1.50</td>\n",
       "      <td>0.50</td>\n",
       "      <td>1.00</td>\n",
       "      <td>1.00</td>\n",
       "      <td>1.00</td>\n",
       "      <td>1.00</td>\n",
       "      <td>1.00</td>\n",
       "      <td>2.00</td>\n",
       "      <td>2.00</td>\n",
       "      <td>2.00</td>\n",
       "      <td>2.00</td>\n",
       "    </tr>\n",
       "    <tr>\n",
       "      <th>rental_duration</th>\n",
       "      <td>445483.00</td>\n",
       "      <td>4.94</td>\n",
       "      <td>1.40</td>\n",
       "      <td>3.00</td>\n",
       "      <td>3.00</td>\n",
       "      <td>3.00</td>\n",
       "      <td>4.00</td>\n",
       "      <td>5.00</td>\n",
       "      <td>6.00</td>\n",
       "      <td>7.00</td>\n",
       "      <td>7.00</td>\n",
       "      <td>7.00</td>\n",
       "    </tr>\n",
       "    <tr>\n",
       "      <th>churn</th>\n",
       "      <td>445483.00</td>\n",
       "      <td>0.97</td>\n",
       "      <td>0.16</td>\n",
       "      <td>0.00</td>\n",
       "      <td>0.00</td>\n",
       "      <td>1.00</td>\n",
       "      <td>1.00</td>\n",
       "      <td>1.00</td>\n",
       "      <td>1.00</td>\n",
       "      <td>1.00</td>\n",
       "      <td>1.00</td>\n",
       "      <td>1.00</td>\n",
       "    </tr>\n",
       "  </tbody>\n",
       "</table>\n",
       "</div>"
      ],
      "text/plain": [
       "                    count   mean    std  min    1%    10%    25%    50%  \\\n",
       "customer_id     445483.00 294.02 171.70 1.00  6.00  56.00 146.00 292.00   \n",
       "film_id         445483.00 501.17 288.30 1.00 10.00 101.00 255.00 498.00   \n",
       "amount          445483.00   4.20   2.37 0.00  0.99   0.99   2.99   3.99   \n",
       "store_id        445483.00   1.51   0.50 1.00  1.00   1.00   1.00   2.00   \n",
       "staff_id        445483.00   1.50   0.50 1.00  1.00   1.00   1.00   1.00   \n",
       "rental_duration 445483.00   4.94   1.40 3.00  3.00   3.00   4.00   5.00   \n",
       "churn           445483.00   0.97   0.16 0.00  0.00   1.00   1.00   1.00   \n",
       "\n",
       "                   75%    90%    99%     max  \n",
       "customer_id     442.00 533.00 593.00  599.00  \n",
       "film_id         752.00 897.00 990.00 1000.00  \n",
       "amount            4.99   6.99   9.99   11.99  \n",
       "store_id          2.00   2.00   2.00    2.00  \n",
       "staff_id          2.00   2.00   2.00    2.00  \n",
       "rental_duration   6.00   7.00   7.00    7.00  \n",
       "churn             1.00   1.00   1.00    1.00  "
      ]
     },
     "execution_count": 8,
     "metadata": {},
     "output_type": "execute_result"
    }
   ],
   "source": [
    "data.describe(percentiles=[0.01, 0.1, 0.25, 0.75, 0.9, 0.99]).T"
   ]
  },
  {
   "cell_type": "code",
   "execution_count": 9,
   "metadata": {},
   "outputs": [],
   "source": [
    "\"\"\"Alterando os valores da colunas churn, como ela anteriormente estava como \"active\", iremos alterar os clientes ativos para \"No\"\n",
    "e os clientes inativos para Yes.\"\"\"\n",
    "\n",
    "data['churn'] = data['churn'].replace({0: 'Sim', 1: 'Não'})"
   ]
  },
  {
   "cell_type": "markdown",
   "metadata": {},
   "source": [
    "**Sobre o dataset**\n",
    "1. Todas as nossas colunas já estão no formato corret então não será necessário fazer nenhuma alteração sobre isso.\n",
    "2. Observando o nosso describe não notamos nenhum valor discrepante ou erros aparentes, iremos observar isso mais afundo na análise gráfica.\n",
    "3. A coluna de costumer_id não será utilizada para modelagem pois ela iria causa data leakage no modelo então iremos remover mais para frente."
   ]
  },
  {
   "cell_type": "markdown",
   "metadata": {},
   "source": [
    "### **Análise Gráfica**"
   ]
  },
  {
   "cell_type": "markdown",
   "metadata": {},
   "source": [
    "* Como primeiro gráfico utilizaremos o boxplot, ele será utilizado com o objetivo de notar possíveis anomalias nos dados, principalmente no rental_duration e amount."
   ]
  },
  {
   "cell_type": "code",
   "execution_count": 10,
   "metadata": {},
   "outputs": [
    {
     "data": {
      "image/png": "[encoded data removed]",
      "text/plain": [
       "<Figure size 640x480 with 1 Axes>"
      ]
     },
     "metadata": {},
     "output_type": "display_data"
    }
   ],
   "source": [
    "col_num = ['amount', 'rental_duration']\n",
    "sns.boxplot(data=data[col_num], orient=\"v\")\n",
    "plt.xlabel(\"Valores\")\n",
    "plt.title(\"Boxplot das Colunas Numéricas\")\n",
    "plt.show()"
   ]
  },
  {
   "cell_type": "markdown",
   "metadata": {},
   "source": [
    "* Dentro do boxplot apesar de ter alguns valores fora dos quartis em amount não aparenta ser nenhum erro então não iremos remover. "
   ]
  },
  {
   "cell_type": "code",
   "execution_count": 11,
   "metadata": {},
   "outputs": [
    {
     "data": {
      "image/png": "[encoded data removed]",
      "text/plain": [
       "<Figure size 500x500 with 1 Axes>"
      ]
     },
     "metadata": {},
     "output_type": "display_data"
    }
   ],
   "source": [
    "churn_counts = data['churn'].value_counts()\n",
    "plt.figure(figsize=(5, 5))\n",
    "plt.pie(churn_counts, labels=churn_counts.index, autopct='%1.1f%%', startangle=140)\n",
    "plt.title('Distribuição de Churn')\n",
    "plt.show()"
   ]
  },
  {
   "cell_type": "markdown",
   "metadata": {},
   "source": [
    "* Como esperado para um caso de churn temos uma classe bem desequilibrada, sendo somente 2.6% dos dados sendo considerados churn."
   ]
  },
  {
   "cell_type": "markdown",
   "metadata": {},
   "source": [
    "### **Data Preparation**"
   ]
  },
  {
   "cell_type": "markdown",
   "metadata": {},
   "source": [
    "* Dentro do data preparation não teremos muitos ajustes para fazer aos dados, uma vez que todos os dados já estão no formato correto e não será necessário fazer nenhum encoder ou algo do tipo, o único ajuste que será necessário é retirar a coluna \"customer_id\", essa coluna é o id_único do usuário e como temos mais de uma transação por usuário manter essa coluna iria causar um data leakage. "
   ]
  },
  {
   "cell_type": "markdown",
   "metadata": {},
   "source": [
    "**O que é o data leakage?**\n",
    "\n",
    "* Data leakage em machine learning ocorre quando informações indevidas, não disponíveis no momento da previsão real, são inadvertidamente incorporadas ao treinamento do modelo, resultando em previsões imprecisas. "
   ]
  },
  {
   "cell_type": "code",
   "execution_count": 12,
   "metadata": {},
   "outputs": [],
   "source": [
    "data.drop('customer_id', axis=1, inplace=True)\n"
   ]
  },
  {
   "cell_type": "code",
   "execution_count": 13,
   "metadata": {},
   "outputs": [],
   "source": [
    "data['rental_date'] = data['rental_date'].apply(lambda x: x.timestamp())\n",
    "data['churn'] = data['churn'].replace({\"Não\": 0, \"Sim\": 1})"
   ]
  },
  {
   "cell_type": "markdown",
   "metadata": {},
   "source": [
    "### **Modelling**"
   ]
  },
  {
   "cell_type": "markdown",
   "metadata": {},
   "source": [
    "* Como estamos lidando com com dataset com dados desequilibrados como podemos ver na análise gráfica sendo uma variável target com 2.6% de frequência e a outra com 97.4% precisamos tomar alguns cuidados adicionais, o primeiro deles será no split entre dataset de treino e dataset de teste, para garantir que ambos os datasets possuam amostras Sim e Não (1 e 0) iremos passar o parâmetro \"stratify = y\"."
   ]
  },
  {
   "cell_type": "code",
   "execution_count": 14,
   "metadata": {},
   "outputs": [],
   "source": [
    "X = data.drop('churn', axis=1)\n",
    "y = data['churn']  # Target\n",
    "\n",
    "X_treino, X_teste, y_treino, y_teste = train_test_split(X, y, test_size=0.2, stratify=y, random_state=42)"
   ]
  },
  {
   "cell_type": "markdown",
   "metadata": {},
   "source": [
    "#### **Próximos passos do Modelling**"
   ]
  },
  {
   "cell_type": "markdown",
   "metadata": {},
   "source": [
    "**Quais modelos iremos utililizar**\n",
    "\n",
    "* No caso que estamos lidando, com classes desbalanceadas, existem alguns modelos que geralmente apresentam um bom desempenho iremos testar dois deles sendo o regressão logística e o Random Forest. Vamos comparar esses três modelos para determinar qual deles tem o melhor desempenho."
   ]
  },
  {
   "cell_type": "markdown",
   "metadata": {},
   "source": [
    "**Próximos passos**\n",
    "\n",
    "* No caso desse modelo em específico iremos pular a parte de Feature Select, iremos fazer isso pois já estamos com pouquíssimas features no modelo, então iremos para o próximo passo sendo ela o tunning de hiperparâmetros. "
   ]
  },
  {
   "cell_type": "markdown",
   "metadata": {},
   "source": [
    "**O que é o tunning de hiperparâmetros?**\n",
    "\n",
    "* O ajuste de hiperparâmetros é o processo de otimizar configurações pré-definidas em um modelo de machine learning para melhorar seu desempenho. Isso é feito experimentando diferentes valores desses parâmetros para encontrar a combinação ideal que maximize o desempenho do modelo."
   ]
  },
  {
   "cell_type": "markdown",
   "metadata": {},
   "source": [
    "**Qual técnica iremos utilizar para o tunning?**\n",
    "\n",
    "* Para o tunning do hiperparâmetro irei utilizar a técnica \"Random Search\", o random search é uma técnica de otimização de hiperparâmetros em machine learning. Em vez de testar todas as combinações possíveis de hiperparâmetros, ela seleciona aleatoriamente configurações para avaliação. Isso economiza tempo e recursos, geralmente encontrando boas configurações de hiperparâmetros de maneira mais eficiente."
   ]
  },
  {
   "cell_type": "markdown",
   "metadata": {},
   "source": [
    "\n",
    "**Observação:** Os dados que estamos utilizando não são ideais para a criação de um modelo de machine learning. Devido a essa limitação, é possível que o desempenho do modelo seja inferior ao esperado. Para construir um modelo mais robusto, seria recomendável realizar um trabalho de coleta de novos dados. Isso poderia melhorar tanto a quantidade quanto a qualidade das features utilizadas na criação do modelo."
   ]
  },
  {
   "cell_type": "markdown",
   "metadata": {},
   "source": [
    "#### **Modelo de Regressão Logística**"
   ]
  },
  {
   "cell_type": "markdown",
   "metadata": {},
   "source": [
    "**Tunning com o Random Search + Validação Cruzada**"
   ]
  },
  {
   "cell_type": "code",
   "execution_count": 15,
   "metadata": {},
   "outputs": [],
   "source": [
    "model = LogisticRegression(random_state=42)\n",
    "param_dist = {\n",
    "    'penalty': ['l1', 'l2'],\n",
    "    'C': loguniform(1e-4, 1e4),\n",
    "    'solver': ['liblinear', 'saga'],\n",
    "    'class_weight':['balanced']\n",
    "}"
   ]
  },
  {
   "cell_type": "markdown",
   "metadata": {},
   "source": [
    "**Detalhe importante sobre o parâmetro \"class_weight\"**\n",
    "\n",
    "* O parâmetro class_weight permite que você atribua pesos diferentes às classes. Normalmente, você define isso como \"balanced\", o que faz com que o modelo automaticamente atribua pesos inversamente proporcionais às frequências das classes. Isso significa que as classes menos frequentes têm maior peso durante o treinamento, ou seja, ele é perfeito para dados desbalanceado como o que estamos trabalhando"
   ]
  },
  {
   "cell_type": "code",
   "execution_count": 16,
   "metadata": {},
   "outputs": [
    {
     "name": "stdout",
     "output_type": "stream",
     "text": [
      "Fitting 5 folds for each of 100 candidates, totalling 500 fits\n"
     ]
    },
    {
     "data": {
      "text/html": [
       "<style>#sk-container-id-1 {color: black;}#sk-container-id-1 pre{padding: 0;}#sk-container-id-1 div.sk-toggleable {background-color: white;}#sk-container-id-1 label.sk-toggleable__label {cursor: pointer;display: block;width: 100%;margin-bottom: 0;padding: 0.3em;box-sizing: border-box;text-align: center;}#sk-container-id-1 label.sk-toggleable__label-arrow:before {content: \"▸\";float: left;margin-right: 0.25em;color: #696969;}#sk-container-id-1 label.sk-toggleable__label-arrow:hover:before {color: black;}#sk-container-id-1 div.sk-estimator:hover label.sk-toggleable__label-arrow:before {color: black;}#sk-container-id-1 div.sk-toggleable__content {max-height: 0;max-width: 0;overflow: hidden;text-align: left;background-color: #f0f8ff;}#sk-container-id-1 div.sk-toggleable__content pre {margin: 0.2em;color: black;border-radius: 0.25em;background-color: #f0f8ff;}#sk-container-id-1 input.sk-toggleable__control:checked~div.sk-toggleable__content {max-height: 200px;max-width: 100%;overflow: auto;}#sk-container-id-1 input.sk-toggleable__control:checked~label.sk-toggleable__label-arrow:before {content: \"▾\";}#sk-container-id-1 div.sk-estimator input.sk-toggleable__control:checked~label.sk-toggleable__label {background-color: #d4ebff;}#sk-container-id-1 div.sk-label input.sk-toggleable__control:checked~label.sk-toggleable__label {background-color: #d4ebff;}#sk-container-id-1 input.sk-hidden--visually {border: 0;clip: rect(1px 1px 1px 1px);clip: rect(1px, 1px, 1px, 1px);height: 1px;margin: -1px;overflow: hidden;padding: 0;position: absolute;width: 1px;}#sk-container-id-1 div.sk-estimator {font-family: monospace;background-color: #f0f8ff;border: 1px dotted black;border-radius: 0.25em;box-sizing: border-box;margin-bottom: 0.5em;}#sk-container-id-1 div.sk-estimator:hover {background-color: #d4ebff;}#sk-container-id-1 div.sk-parallel-item::after {content: \"\";width: 100%;border-bottom: 1px solid gray;flex-grow: 1;}#sk-container-id-1 div.sk-label:hover label.sk-toggleable__label {background-color: #d4ebff;}#sk-container-id-1 div.sk-serial::before {content: \"\";position: absolute;border-left: 1px solid gray;box-sizing: border-box;top: 0;bottom: 0;left: 50%;z-index: 0;}#sk-container-id-1 div.sk-serial {display: flex;flex-direction: column;align-items: center;background-color: white;padding-right: 0.2em;padding-left: 0.2em;position: relative;}#sk-container-id-1 div.sk-item {position: relative;z-index: 1;}#sk-container-id-1 div.sk-parallel {display: flex;align-items: stretch;justify-content: center;background-color: white;position: relative;}#sk-container-id-1 div.sk-item::before, #sk-container-id-1 div.sk-parallel-item::before {content: \"\";position: absolute;border-left: 1px solid gray;box-sizing: border-box;top: 0;bottom: 0;left: 50%;z-index: -1;}#sk-container-id-1 div.sk-parallel-item {display: flex;flex-direction: column;z-index: 1;position: relative;background-color: white;}#sk-container-id-1 div.sk-parallel-item:first-child::after {align-self: flex-end;width: 50%;}#sk-container-id-1 div.sk-parallel-item:last-child::after {align-self: flex-start;width: 50%;}#sk-container-id-1 div.sk-parallel-item:only-child::after {width: 0;}#sk-container-id-1 div.sk-dashed-wrapped {border: 1px dashed gray;margin: 0 0.4em 0.5em 0.4em;box-sizing: border-box;padding-bottom: 0.4em;background-color: white;}#sk-container-id-1 div.sk-label label {font-family: monospace;font-weight: bold;display: inline-block;line-height: 1.2em;}#sk-container-id-1 div.sk-label-container {text-align: center;}#sk-container-id-1 div.sk-container {/* jupyter's `normalize.less` sets `[hidden] { display: none; }` but bootstrap.min.css set `[hidden] { display: none !important; }` so we also need the `!important` here to be able to override the default hidden behavior on the sphinx rendered scikit-learn.org. See: https://github.com/scikit-learn/scikit-learn/issues/21755 */display: inline-block !important;position: relative;}#sk-container-id-1 div.sk-text-repr-fallback {display: none;}</style><div id=\"sk-container-id-1\" class=\"sk-top-container\"><div class=\"sk-text-repr-fallback\"><pre>RandomizedSearchCV(cv=5, estimator=LogisticRegression(random_state=42),\n",
       "                   n_iter=100, n_jobs=-1,\n",
       "                   param_distributions={&#x27;C&#x27;: &lt;scipy.stats._distn_infrastructure.rv_continuous_frozen object at 0x00000203A811F8D0&gt;,\n",
       "                                        &#x27;class_weight&#x27;: [&#x27;balanced&#x27;],\n",
       "                                        &#x27;penalty&#x27;: [&#x27;l1&#x27;, &#x27;l2&#x27;],\n",
       "                                        &#x27;solver&#x27;: [&#x27;liblinear&#x27;, &#x27;saga&#x27;]},\n",
       "                   scoring=&#x27;f1&#x27;, verbose=1)</pre><b>In a Jupyter environment, please rerun this cell to show the HTML representation or trust the notebook. <br />On GitHub, the HTML representation is unable to render, please try loading this page with nbviewer.org.</b></div><div class=\"sk-container\" hidden><div class=\"sk-item sk-dashed-wrapped\"><div class=\"sk-label-container\"><div class=\"sk-label sk-toggleable\"><input class=\"sk-toggleable__control sk-hidden--visually\" id=\"sk-estimator-id-1\" type=\"checkbox\" ><label for=\"sk-estimator-id-1\" class=\"sk-toggleable__label sk-toggleable__label-arrow\">RandomizedSearchCV</label><div class=\"sk-toggleable__content\"><pre>RandomizedSearchCV(cv=5, estimator=LogisticRegression(random_state=42),\n",
       "                   n_iter=100, n_jobs=-1,\n",
       "                   param_distributions={&#x27;C&#x27;: &lt;scipy.stats._distn_infrastructure.rv_continuous_frozen object at 0x00000203A811F8D0&gt;,\n",
       "                                        &#x27;class_weight&#x27;: [&#x27;balanced&#x27;],\n",
       "                                        &#x27;penalty&#x27;: [&#x27;l1&#x27;, &#x27;l2&#x27;],\n",
       "                                        &#x27;solver&#x27;: [&#x27;liblinear&#x27;, &#x27;saga&#x27;]},\n",
       "                   scoring=&#x27;f1&#x27;, verbose=1)</pre></div></div></div><div class=\"sk-parallel\"><div class=\"sk-parallel-item\"><div class=\"sk-item\"><div class=\"sk-label-container\"><div class=\"sk-label sk-toggleable\"><input class=\"sk-toggleable__control sk-hidden--visually\" id=\"sk-estimator-id-2\" type=\"checkbox\" ><label for=\"sk-estimator-id-2\" class=\"sk-toggleable__label sk-toggleable__label-arrow\">estimator: LogisticRegression</label><div class=\"sk-toggleable__content\"><pre>LogisticRegression(random_state=42)</pre></div></div></div><div class=\"sk-serial\"><div class=\"sk-item\"><div class=\"sk-estimator sk-toggleable\"><input class=\"sk-toggleable__control sk-hidden--visually\" id=\"sk-estimator-id-3\" type=\"checkbox\" ><label for=\"sk-estimator-id-3\" class=\"sk-toggleable__label sk-toggleable__label-arrow\">LogisticRegression</label><div class=\"sk-toggleable__content\"><pre>LogisticRegression(random_state=42)</pre></div></div></div></div></div></div></div></div></div></div>"
      ],
      "text/plain": [
       "RandomizedSearchCV(cv=5, estimator=LogisticRegression(random_state=42),\n",
       "                   n_iter=100, n_jobs=-1,\n",
       "                   param_distributions={'C': <scipy.stats._distn_infrastructure.rv_continuous_frozen object at 0x00000203A811F8D0>,\n",
       "                                        'class_weight': ['balanced'],\n",
       "                                        'penalty': ['l1', 'l2'],\n",
       "                                        'solver': ['liblinear', 'saga']},\n",
       "                   scoring='f1', verbose=1)"
      ]
     },
     "execution_count": 16,
     "metadata": {},
     "output_type": "execute_result"
    }
   ],
   "source": [
    "random_search = RandomizedSearchCV(\n",
    "    model, param_distributions=param_dist, n_iter=100, cv=5, scoring='f1', verbose=1, n_jobs=-1\n",
    ")\n",
    "random_search.fit(X_treino, y_treino)"
   ]
  },
  {
   "cell_type": "code",
   "execution_count": 17,
   "metadata": {},
   "outputs": [
    {
     "name": "stdout",
     "output_type": "stream",
     "text": [
      "Melhores Hiperparâmetros Encontrados:\n",
      "{'C': 0.0021712674667571457, 'class_weight': 'balanced', 'penalty': 'l1', 'solver': 'liblinear'}\n"
     ]
    }
   ],
   "source": [
    "print(\"Melhores Hiperparâmetros Encontrados:\")\n",
    "print(random_search.best_params_)"
   ]
  },
  {
   "cell_type": "code",
   "execution_count": 18,
   "metadata": {},
   "outputs": [],
   "source": [
    "# Atribuindo o melhor modelo a uma variável.\n",
    "best_model_LR = random_search.best_estimator_"
   ]
  },
  {
   "cell_type": "code",
   "execution_count": 19,
   "metadata": {},
   "outputs": [],
   "source": [
    "pred_LR = best_model_LR.predict(X_teste)\n",
    "Recall_LR = recall_score(y_teste, pred_LR)"
   ]
  },
  {
   "cell_type": "code",
   "execution_count": 20,
   "metadata": {},
   "outputs": [
    {
     "name": "stdout",
     "output_type": "stream",
     "text": [
      "O modelo apresentou um recall de 53.57%\n"
     ]
    }
   ],
   "source": [
    "print(f\"O modelo apresentou um recall de {round(Recall_LR * 100, 2)}%\")"
   ]
  },
  {
   "cell_type": "code",
   "execution_count": 30,
   "metadata": {},
   "outputs": [
    {
     "data": {
      "image/png": "[encoded data removed]",
      "text/plain": [
       "<Figure size 640x480 with 2 Axes>"
      ]
     },
     "metadata": {},
     "output_type": "display_data"
    }
   ],
   "source": [
    "cm_LR = confusion_matrix(y_teste, pred_LR)\n",
    "sns.heatmap(cm_LR, annot=True, cmap='Blues', fmt='g')\n",
    "plt.xlabel('Predicted')\n",
    "plt.ylabel('True')\n",
    "plt.show()"
   ]
  },
  {
   "cell_type": "markdown",
   "metadata": {},
   "source": [
    "#### **Modelo de Random Forest**"
   ]
  },
  {
   "cell_type": "markdown",
   "metadata": {},
   "source": [
    "**Tunning com o Random Search + Validação Cruzada**"
   ]
  },
  {
   "cell_type": "code",
   "execution_count": 22,
   "metadata": {},
   "outputs": [],
   "source": [
    "rf_model = RandomForestClassifier(class_weight='balanced', random_state=42)\n",
    "param_dist = {\n",
    "    'n_estimators': randint(50, 200),           # Número de árvores no ensemble\n",
    "    'max_depth': randint(1, 20),                # Profundidade máxima das árvores\n",
    "    'min_samples_split': randint(2, 20),        # Número mínimo de amostras para dividir um nó\n",
    "    'min_samples_leaf': randint(1, 20)          # Número mínimo de amostras em folhas\n",
    "}"
   ]
  },
  {
   "cell_type": "code",
   "execution_count": 23,
   "metadata": {},
   "outputs": [
    {
     "data": {
      "text/html": [
       "<style>#sk-container-id-2 {color: black;}#sk-container-id-2 pre{padding: 0;}#sk-container-id-2 div.sk-toggleable {background-color: white;}#sk-container-id-2 label.sk-toggleable__label {cursor: pointer;display: block;width: 100%;margin-bottom: 0;padding: 0.3em;box-sizing: border-box;text-align: center;}#sk-container-id-2 label.sk-toggleable__label-arrow:before {content: \"▸\";float: left;margin-right: 0.25em;color: #696969;}#sk-container-id-2 label.sk-toggleable__label-arrow:hover:before {color: black;}#sk-container-id-2 div.sk-estimator:hover label.sk-toggleable__label-arrow:before {color: black;}#sk-container-id-2 div.sk-toggleable__content {max-height: 0;max-width: 0;overflow: hidden;text-align: left;background-color: #f0f8ff;}#sk-container-id-2 div.sk-toggleable__content pre {margin: 0.2em;color: black;border-radius: 0.25em;background-color: #f0f8ff;}#sk-container-id-2 input.sk-toggleable__control:checked~div.sk-toggleable__content {max-height: 200px;max-width: 100%;overflow: auto;}#sk-container-id-2 input.sk-toggleable__control:checked~label.sk-toggleable__label-arrow:before {content: \"▾\";}#sk-container-id-2 div.sk-estimator input.sk-toggleable__control:checked~label.sk-toggleable__label {background-color: #d4ebff;}#sk-container-id-2 div.sk-label input.sk-toggleable__control:checked~label.sk-toggleable__label {background-color: #d4ebff;}#sk-container-id-2 input.sk-hidden--visually {border: 0;clip: rect(1px 1px 1px 1px);clip: rect(1px, 1px, 1px, 1px);height: 1px;margin: -1px;overflow: hidden;padding: 0;position: absolute;width: 1px;}#sk-container-id-2 div.sk-estimator {font-family: monospace;background-color: #f0f8ff;border: 1px dotted black;border-radius: 0.25em;box-sizing: border-box;margin-bottom: 0.5em;}#sk-container-id-2 div.sk-estimator:hover {background-color: #d4ebff;}#sk-container-id-2 div.sk-parallel-item::after {content: \"\";width: 100%;border-bottom: 1px solid gray;flex-grow: 1;}#sk-container-id-2 div.sk-label:hover label.sk-toggleable__label {background-color: #d4ebff;}#sk-container-id-2 div.sk-serial::before {content: \"\";position: absolute;border-left: 1px solid gray;box-sizing: border-box;top: 0;bottom: 0;left: 50%;z-index: 0;}#sk-container-id-2 div.sk-serial {display: flex;flex-direction: column;align-items: center;background-color: white;padding-right: 0.2em;padding-left: 0.2em;position: relative;}#sk-container-id-2 div.sk-item {position: relative;z-index: 1;}#sk-container-id-2 div.sk-parallel {display: flex;align-items: stretch;justify-content: center;background-color: white;position: relative;}#sk-container-id-2 div.sk-item::before, #sk-container-id-2 div.sk-parallel-item::before {content: \"\";position: absolute;border-left: 1px solid gray;box-sizing: border-box;top: 0;bottom: 0;left: 50%;z-index: -1;}#sk-container-id-2 div.sk-parallel-item {display: flex;flex-direction: column;z-index: 1;position: relative;background-color: white;}#sk-container-id-2 div.sk-parallel-item:first-child::after {align-self: flex-end;width: 50%;}#sk-container-id-2 div.sk-parallel-item:last-child::after {align-self: flex-start;width: 50%;}#sk-container-id-2 div.sk-parallel-item:only-child::after {width: 0;}#sk-container-id-2 div.sk-dashed-wrapped {border: 1px dashed gray;margin: 0 0.4em 0.5em 0.4em;box-sizing: border-box;padding-bottom: 0.4em;background-color: white;}#sk-container-id-2 div.sk-label label {font-family: monospace;font-weight: bold;display: inline-block;line-height: 1.2em;}#sk-container-id-2 div.sk-label-container {text-align: center;}#sk-container-id-2 div.sk-container {/* jupyter's `normalize.less` sets `[hidden] { display: none; }` but bootstrap.min.css set `[hidden] { display: none !important; }` so we also need the `!important` here to be able to override the default hidden behavior on the sphinx rendered scikit-learn.org. See: https://github.com/scikit-learn/scikit-learn/issues/21755 */display: inline-block !important;position: relative;}#sk-container-id-2 div.sk-text-repr-fallback {display: none;}</style><div id=\"sk-container-id-2\" class=\"sk-top-container\"><div class=\"sk-text-repr-fallback\"><pre>RandomizedSearchCV(cv=5,\n",
       "                   estimator=RandomForestClassifier(class_weight=&#x27;balanced&#x27;,\n",
       "                                                    random_state=42),\n",
       "                   n_iter=100, n_jobs=-1,\n",
       "                   param_distributions={&#x27;max_depth&#x27;: &lt;scipy.stats._distn_infrastructure.rv_discrete_frozen object at 0x00000203A564A710&gt;,\n",
       "                                        &#x27;min_samples_leaf&#x27;: &lt;scipy.stats._distn_infrastructure.rv_discrete_frozen object at 0x00000203A560EB90&gt;,\n",
       "                                        &#x27;min_samples_split&#x27;: &lt;scipy.stats._distn_infrastructure.rv_discrete_frozen object at 0x00000203A811E850&gt;,\n",
       "                                        &#x27;n_estimators&#x27;: &lt;scipy.stats._distn_infrastructure.rv_discrete_frozen object at 0x00000203A817D990&gt;},\n",
       "                   random_state=42, scoring=&#x27;f1&#x27;)</pre><b>In a Jupyter environment, please rerun this cell to show the HTML representation or trust the notebook. <br />On GitHub, the HTML representation is unable to render, please try loading this page with nbviewer.org.</b></div><div class=\"sk-container\" hidden><div class=\"sk-item sk-dashed-wrapped\"><div class=\"sk-label-container\"><div class=\"sk-label sk-toggleable\"><input class=\"sk-toggleable__control sk-hidden--visually\" id=\"sk-estimator-id-4\" type=\"checkbox\" ><label for=\"sk-estimator-id-4\" class=\"sk-toggleable__label sk-toggleable__label-arrow\">RandomizedSearchCV</label><div class=\"sk-toggleable__content\"><pre>RandomizedSearchCV(cv=5,\n",
       "                   estimator=RandomForestClassifier(class_weight=&#x27;balanced&#x27;,\n",
       "                                                    random_state=42),\n",
       "                   n_iter=100, n_jobs=-1,\n",
       "                   param_distributions={&#x27;max_depth&#x27;: &lt;scipy.stats._distn_infrastructure.rv_discrete_frozen object at 0x00000203A564A710&gt;,\n",
       "                                        &#x27;min_samples_leaf&#x27;: &lt;scipy.stats._distn_infrastructure.rv_discrete_frozen object at 0x00000203A560EB90&gt;,\n",
       "                                        &#x27;min_samples_split&#x27;: &lt;scipy.stats._distn_infrastructure.rv_discrete_frozen object at 0x00000203A811E850&gt;,\n",
       "                                        &#x27;n_estimators&#x27;: &lt;scipy.stats._distn_infrastructure.rv_discrete_frozen object at 0x00000203A817D990&gt;},\n",
       "                   random_state=42, scoring=&#x27;f1&#x27;)</pre></div></div></div><div class=\"sk-parallel\"><div class=\"sk-parallel-item\"><div class=\"sk-item\"><div class=\"sk-label-container\"><div class=\"sk-label sk-toggleable\"><input class=\"sk-toggleable__control sk-hidden--visually\" id=\"sk-estimator-id-5\" type=\"checkbox\" ><label for=\"sk-estimator-id-5\" class=\"sk-toggleable__label sk-toggleable__label-arrow\">estimator: RandomForestClassifier</label><div class=\"sk-toggleable__content\"><pre>RandomForestClassifier(class_weight=&#x27;balanced&#x27;, random_state=42)</pre></div></div></div><div class=\"sk-serial\"><div class=\"sk-item\"><div class=\"sk-estimator sk-toggleable\"><input class=\"sk-toggleable__control sk-hidden--visually\" id=\"sk-estimator-id-6\" type=\"checkbox\" ><label for=\"sk-estimator-id-6\" class=\"sk-toggleable__label sk-toggleable__label-arrow\">RandomForestClassifier</label><div class=\"sk-toggleable__content\"><pre>RandomForestClassifier(class_weight=&#x27;balanced&#x27;, random_state=42)</pre></div></div></div></div></div></div></div></div></div></div>"
      ],
      "text/plain": [
       "RandomizedSearchCV(cv=5,\n",
       "                   estimator=RandomForestClassifier(class_weight='balanced',\n",
       "                                                    random_state=42),\n",
       "                   n_iter=100, n_jobs=-1,\n",
       "                   param_distributions={'max_depth': <scipy.stats._distn_infrastructure.rv_discrete_frozen object at 0x00000203A564A710>,\n",
       "                                        'min_samples_leaf': <scipy.stats._distn_infrastructure.rv_discrete_frozen object at 0x00000203A560EB90>,\n",
       "                                        'min_samples_split': <scipy.stats._distn_infrastructure.rv_discrete_frozen object at 0x00000203A811E850>,\n",
       "                                        'n_estimators': <scipy.stats._distn_infrastructure.rv_discrete_frozen object at 0x00000203A817D990>},\n",
       "                   random_state=42, scoring='f1')"
      ]
     },
     "execution_count": 23,
     "metadata": {},
     "output_type": "execute_result"
    }
   ],
   "source": [
    "random_search_rf = RandomizedSearchCV(\n",
    "    rf_model, param_distributions=param_dist, n_iter=100, cv=5, scoring='f1', random_state=42, n_jobs=-1\n",
    ")\n",
    "random_search_rf.fit(X_treino, y_treino)"
   ]
  },
  {
   "cell_type": "code",
   "execution_count": 24,
   "metadata": {},
   "outputs": [
    {
     "name": "stdout",
     "output_type": "stream",
     "text": [
      "Melhores Hiperparâmetros Encontrados:\n",
      "{'max_depth': 19, 'min_samples_leaf': 2, 'min_samples_split': 11, 'n_estimators': 94}\n"
     ]
    }
   ],
   "source": [
    "print(\"Melhores Hiperparâmetros Encontrados:\")\n",
    "print(random_search_rf.best_params_)"
   ]
  },
  {
   "cell_type": "code",
   "execution_count": 25,
   "metadata": {},
   "outputs": [],
   "source": [
    "best_rf_model = random_search_rf.best_estimator_"
   ]
  },
  {
   "cell_type": "code",
   "execution_count": 26,
   "metadata": {},
   "outputs": [],
   "source": [
    "pred_RF = best_rf_model.predict(X_teste)\n",
    "Recall_RF = recall_score(y_teste, pred_RF)"
   ]
  },
  {
   "cell_type": "code",
   "execution_count": 32,
   "metadata": {},
   "outputs": [
    {
     "name": "stdout",
     "output_type": "stream",
     "text": [
      "O modelo apresentou um recall de 96.1%\n"
     ]
    }
   ],
   "source": [
    "print(f\"O modelo apresentou um recall de {round(Recall_RF * 100, 2)}%\")"
   ]
  },
  {
   "cell_type": "code",
   "execution_count": 33,
   "metadata": {},
   "outputs": [
    {
     "data": {
      "image/png": "[encoded data removed]",
      "text/plain": [
       "<Figure size 640x480 with 2 Axes>"
      ]
     },
     "metadata": {},
     "output_type": "display_data"
    }
   ],
   "source": [
    "cm_RF = confusion_matrix(y_teste, pred_RF)\n",
    "sns.heatmap(cm_RF, annot=True, cmap='Blues', fmt='g')\n",
    "plt.xlabel('Predicted')\n",
    "plt.ylabel('True')\n",
    "plt.show()"
   ]
  },
  {
   "cell_type": "markdown",
   "metadata": {},
   "source": [
    "**Conclusão do Modelling**\n",
    "\n",
    "* Como podemos ver na taxa de recall e na matriz de confusão o modelo de random forest teve um desempenho muito superior ao modelo de regressão logística, devido a isso iremos seguir com esse modelo. "
   ]
  },
  {
   "cell_type": "markdown",
   "metadata": {},
   "source": [
    "### **Salvando o modelo**"
   ]
  },
  {
   "cell_type": "markdown",
   "metadata": {},
   "source": [
    "**Iremos começar criando uma função que irá replicar os tratamentos realizados no dataset, ele será utilizado nos dados antes de ser realizado uma predição.**"
   ]
  },
  {
   "cell_type": "code",
   "execution_count": 35,
   "metadata": {},
   "outputs": [],
   "source": [
    "def tratamento(data):\n",
    "    # Excluindo a coluna customer_id\n",
    "    data.drop('customer_id', axis=1, inplace=True)\n",
    "\n",
    "    # Formatando a coluna churn que antes era \"active\"\n",
    "    data['churn'] = data['churn'].replace({0: 'Sim', 1: 'Não'})\n",
    "\n",
    "    # Deixando a data no formato UNIX\n",
    "    data['rental_date'] = data['rental_date'].apply(lambda x: x.timestamp())\n",
    "\n",
    "    # Corrigindo formato da coluan churn para o modelo.\n",
    "    data['churn'] = data['churn'].replace({\"Não\": 0, \"Sim\": 1}) "
   ]
  },
  {
   "cell_type": "code",
   "execution_count": 36,
   "metadata": {},
   "outputs": [
    {
     "data": {
      "text/plain": [
       "['Modelo_churn_RF']"
      ]
     },
     "execution_count": 36,
     "metadata": {},
     "output_type": "execute_result"
    }
   ],
   "source": [
    "joblib.dump(best_rf_model, \"Modelo_churn_RF\")"
   ]
  }
 ],
 "metadata": {
  "kernelspec": {
   "display_name": "Python 3",
   "language": "python",
   "name": "python3"
  },
  "language_info": {
   "codemirror_mode": {
    "name": "ipython",
    "version": 3
   },
   "file_extension": ".py",
   "mimetype": "text/x-python",
   "name": "python",
   "nbconvert_exporter": "python",
   "pygments_lexer": "ipython3",
   "version": "3.11.5"
  },
  "orig_nbformat": 4
 },
 "nbformat": 4,
 "nbformat_minor": 2
}
